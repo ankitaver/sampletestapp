{
 "cells": [
  {
   "cell_type": "markdown",
   "metadata": {},
   "source": [
    "This tutorial teaches you features in .NET Core and the C# language. You’ll learn how to:\n",
    "\n",
    "- Generate sequences with LINQ.\n",
    "- Write methods that can be easily used in LINQ queries.\n",
    "- Distinguish between eager and lazy evaluation.\n",
    "\n",
    "You'll learn these techniques by building an application that demonstrates one of the basic skills of any magician: the [faro shuffle](https://en.wikipedia.org/wiki/Faro_shuffle). Briefly, a faro shuffle is a technique where you split a card deck exactly in half, then the shuffle interleaves each one card from each half to rebuild the original deck.\n",
    "\n",
    "Magicians use this technique because every card is in a known location after each shuffle, and the order is a repeating pattern.\n",
    "\n",
    "For your purposes, it is a light hearted look at manipulating sequences of data. The application you'll build constructs a card deck and then performs a sequence of shuffles, writing the sequence out each time. You'll also compare the updated order to the original order.\n",
    "\n",
    "## Create a deck of cards\n",
    "\n",
    "Commonly, a deck of playing cards has four suits, and each suit has thirteen values. Let's create two `enum` types to represent the suits and the ranks, and two extension methods that enumerate each suit and each rank:"
   ]
  },
  {
   "cell_type": "code",
   "execution_count": 1,
   "metadata": {},
   "outputs": [],
   "source": [
    "public enum Suit\n",
    "    {\n",
    "        Clubs,\n",
    "        Diamonds,\n",
    "        Hearts,\n",
    "        Spades\n",
    "    }\n",
    "    \n",
    "Console.WriteLine(\".NET Interactive knows about a Suit\");\n",
    "\n",
    " public enum Rank\n",
    "    {\n",
    "        Two,\n",
    "        Three,\n",
    "        Four,\n",
    "        Five,\n",
    "        Six,\n",
    "        Seven,\n",
    "        Eight,\n",
    "        Nine,\n",
    "        Ten,\n",
    "        Jack,\n",
    "        Queen,\n",
    "        King,\n",
    "        Ace\n",
    "    }\n",
    "    \n",
    "Console.WriteLine(\".NET Interactive knows about a Face.\");\n",
    "\n",
    "static IEnumerable<Suit> Suits() => Enum.GetValues(typeof(Suit)) as IEnumerable<Suit>;\n",
    "static IEnumerable<Rank> Ranks() => Enum.GetValues(typeof(Rank)) as IEnumerable<Rank>;\n",
    "\n",
    "Console.WriteLine(\".NET Interactive can generate suits and ranks.\");"
   ]
  },
  {
   "cell_type": "markdown",
   "metadata": {},
   "source": [
    "Next, define a `Deck` class to represent the deck of cards. This has two constructors. The default constructor generate a deck in the sorted order. The second constructor takes a sequence of cards in the specified order. Later, you'll use the second constructor as you shuffle the deck."
   ]
  },
  {
   "cell_type": "code",
   "execution_count": 2,
   "metadata": {},
   "outputs": [],
   "source": [
    "\n",
    "public class Card\n",
    "{\n",
    "    public Suit Suit { get; }\n",
    "    public Rank Rank { get; }\n",
    "\n",
    "    public Card(Suit s, Rank r)\n",
    "    {\n",
    "        Suit = s;\n",
    "        Rank = r;\n",
    "    }\n",
    "\n",
    "    public override string ToString() => $\"{Rank} of {Suit}\";\n",
    "}\n",
    "\n",
    "public class Deck\n",
    "{\n",
    "    private List<Card> cards = new List<Card>();\n",
    "    \n",
    "    public Deck()\n",
    "    {\n",
    "        var sequence = from s in Suits()\n",
    "            from r in Ranks()\n",
    "            select new Card(s, r);\n",
    "        cards.AddRange(sequence);\n",
    "    }\n",
    "    public Deck(IEnumerable<Card> cards) => this.cards = new List<Card>(cards);\n",
    "\n",
    "    public IEnumerable<Card> Cards => cards;\n",
    "}\n",
    "\n",
    "Console.WriteLine(\"The deck of cards is defined\");"
   ]
  },
  {
   "cell_type": "code",
   "execution_count": 3,
   "metadata": {},
   "outputs": [],
   "source": [
    "Formatter<Deck>.Register((deck, writer) =>\n",
    "{\n",
    "    PocketView v = div(deck.Cards.Select(c =>\n",
    "    {\n",
    "        var face = Enum.GetName(typeof(Rank), c.Rank);\n",
    "        var suit = Enum.GetName(typeof(Suit), c.Suit);\n",
    "        return img[src:$\"https://dotnetcards.azureedge.net/cards/{suit}{face}.png\", width:64]();\n",
    "    }));\n",
    "    writer.Write(v);\n",
    "}, \"text/html\");\n",
    "\n",
    "Console.WriteLine(\"card formatter defined\");"
   ]
  },
  {
   "cell_type": "code",
   "execution_count": 4,
   "metadata": {},
   "outputs": [],
   "source": [
    "static IEnumerable<T> InterleaveSequenceWith<T> (this IEnumerable<T> first, IEnumerable<T> second)\n",
    "{\n",
    "    var firstIter = first.GetEnumerator();\n",
    "    var secondIter = second.GetEnumerator();\n",
    "\n",
    "    while (firstIter.MoveNext() && secondIter.MoveNext())\n",
    "    {\n",
    "        yield return firstIter.Current;\n",
    "        yield return secondIter.Current;\n",
    "    }\n",
    "}\n",
    "\n",
    "Console.WriteLine(\"Shuffle method is defined\");"
   ]
  },
  {
   "cell_type": "code",
   "execution_count": 5,
   "metadata": {},
   "outputs": [],
   "source": [
    "static bool SequenceEquals<T>(this IEnumerable<T> first, IEnumerable<T> second)\n",
    "{\n",
    "    var firstIter = first.GetEnumerator();\n",
    "    var secondIter = second.GetEnumerator();\n",
    "\n",
    "    while (firstIter.MoveNext() && secondIter.MoveNext())\n",
    "    {\n",
    "        if (!firstIter.Current.Equals(secondIter.Current))\n",
    "        {\n",
    "            return false;\n",
    "        }\n",
    "    }\n",
    "\n",
    "    return true;\n",
    "}\n",
    "Console.WriteLine(\"Sequence comparison method defined\");"
   ]
  },
  {
   "cell_type": "code",
   "execution_count": 7,
   "metadata": {},
   "outputs": [],
   "source": [
    "var deck = new Deck();\n",
    "var deckDisplay = display(deck);\n",
    "int numberOfShuffles = 0;\n",
    "var shuffleDisplay = display($\"Number of shuffles: {numberOfShuffles}\");"
   ]
  },
  {
   "cell_type": "code",
   "execution_count": 8,
   "metadata": {},
   "outputs": [],
   "source": [
    "var shuffle = deck;\n",
    "do\n",
    "{\n",
    "    shuffle = new Deck(shuffle.Cards.Take(26).InterleaveSequenceWith(shuffle.Cards.Skip(26)));\n",
    "    numberOfShuffles++;\n",
    "    deckDisplay.Update(shuffle);\n",
    "    shuffleDisplay.Update($\"Number of shuffles: {numberOfShuffles}\");\n",
    "    await Task.Delay(3000);\n",
    "} while(!deck.Cards.SequenceEquals(shuffle.Cards));\n"
   ]
  },
  {
   "cell_type": "code",
   "execution_count": null,
   "metadata": {},
   "outputs": [],
   "source": []
  }
 ],
 "metadata": {
  "kernelspec": {
   "display_name": ".NET (C#)",
   "language": "C#",
   "name": ".net-csharp"
  },
  "language_info": {
   "file_extension": ".cs",
   "mimetype": "text/x-csharp",
   "name": "C#",
   "pygments_lexer": "csharp",
   "version": "8.0"
  }
 },
 "nbformat": 4,
 "nbformat_minor": 4
}
